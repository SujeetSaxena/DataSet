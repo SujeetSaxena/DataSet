{
  "nbformat": 4,
  "nbformat_minor": 0,
  "metadata": {
    "colab": {
      "provenance": [],
      "toc_visible": true,
      "authorship_tag": "ABX9TyNuo9KzGmACiZU01FHKq2yO",
      "include_colab_link": true
    },
    "kernelspec": {
      "name": "python3",
      "display_name": "Python 3"
    },
    "language_info": {
      "name": "python"
    }
  },
  "cells": [
    {
      "cell_type": "markdown",
      "metadata": {
        "id": "view-in-github",
        "colab_type": "text"
      },
      "source": [
        "<a href=\"https://colab.research.google.com/github/SujeetSaxena/DataSet/blob/main/OneHotEncoding.ipynb\" target=\"_parent\"><img src=\"https://colab.research.google.com/assets/colab-badge.svg\" alt=\"Open In Colab\"/></a>"
      ]
    },
    {
      "cell_type": "markdown",
      "source": [
        "Create the Data"
      ],
      "metadata": {
        "id": "5j6nXdQvIVR1"
      }
    },
    {
      "cell_type": "code",
      "execution_count": 1,
      "metadata": {
        "colab": {
          "base_uri": "https://localhost:8080/"
        },
        "id": "1DJOg3PxILfd",
        "outputId": "dcb0cf1d-c9f8-443c-ceed-a4837855feb0"
      },
      "outputs": [
        {
          "output_type": "stream",
          "name": "stdout",
          "text": [
            "  team  points\n",
            "0    A      25\n",
            "1    A      12\n",
            "2    B      15\n",
            "3    B      14\n",
            "4    B      19\n",
            "5    B      23\n",
            "6    C      25\n",
            "7    C      29\n"
          ]
        }
      ],
      "source": [
        "import pandas as pd\n",
        "\n",
        "#create DataFrame\n",
        "df = pd.DataFrame({'team': ['A', 'A', 'B', 'B', 'B', 'B', 'C', 'C'],\n",
        "                   'points': [25, 12, 15, 14, 19, 23, 25, 29]})\n",
        "\n",
        "#view DataFrame\n",
        "print(df)"
      ]
    },
    {
      "cell_type": "markdown",
      "source": [
        "# New Section"
      ],
      "metadata": {
        "id": "H0_NMF8fM-Ql"
      }
    },
    {
      "cell_type": "markdown",
      "source": [
        "Perform One-Hot Encoding"
      ],
      "metadata": {
        "id": "YVVjWn3RIbij"
      }
    },
    {
      "cell_type": "code",
      "source": [
        "from sklearn.preprocessing import OneHotEncoder\n",
        "\n",
        "#creating instance of one-hot-encoder\n",
        "encoder = OneHotEncoder(handle_unknown='ignore')\n",
        "\n",
        "#perform one-hot encoding on 'team' column\n",
        "encoder_df = pd.DataFrame(encoder.fit_transform(df[['team']]).toarray())\n",
        "\n",
        "#merge one-hot encoded columns back with original DataFrame\n",
        "final_df = df.join(encoder_df)\n",
        "\n",
        "#view final df\n",
        "print(final_df)"
      ],
      "metadata": {
        "colab": {
          "base_uri": "https://localhost:8080/"
        },
        "id": "giCUP2uWIl5u",
        "outputId": "15deea43-4664-49cc-acee-f8841f57d2cf"
      },
      "execution_count": null,
      "outputs": [
        {
          "output_type": "stream",
          "name": "stdout",
          "text": [
            "  team  points    0    1    2\n",
            "0    A      25  1.0  0.0  0.0\n",
            "1    A      12  1.0  0.0  0.0\n",
            "2    B      15  0.0  1.0  0.0\n",
            "3    B      14  0.0  1.0  0.0\n",
            "4    B      19  0.0  1.0  0.0\n",
            "5    B      23  0.0  1.0  0.0\n",
            "6    C      25  0.0  0.0  1.0\n",
            "7    C      29  0.0  0.0  1.0\n"
          ]
        }
      ]
    },
    {
      "cell_type": "markdown",
      "source": [
        "Drop the Original Categorical Variable"
      ],
      "metadata": {
        "id": "HZKz8z1FJXXn"
      }
    },
    {
      "cell_type": "code",
      "source": [
        "#drop 'team' column\n",
        "final_df.drop('team', axis=1, inplace=True)\n",
        "\n",
        "#view final df\n",
        "print(final_df)\n"
      ],
      "metadata": {
        "colab": {
          "base_uri": "https://localhost:8080/"
        },
        "id": "NQvIdFJWJY18",
        "outputId": "adf1ebb7-7a43-4c67-fc5d-403c7328545e"
      },
      "execution_count": null,
      "outputs": [
        {
          "output_type": "stream",
          "name": "stdout",
          "text": [
            "   points    0    1    2\n",
            "0      25  1.0  0.0  0.0\n",
            "1      12  1.0  0.0  0.0\n",
            "2      15  0.0  1.0  0.0\n",
            "3      14  0.0  1.0  0.0\n",
            "4      19  0.0  1.0  0.0\n",
            "5      23  0.0  1.0  0.0\n",
            "6      25  0.0  0.0  1.0\n",
            "7      29  0.0  0.0  1.0\n"
          ]
        }
      ]
    },
    {
      "cell_type": "markdown",
      "source": [
        " rename the columns of the final DataFrame to make them easier to read:"
      ],
      "metadata": {
        "id": "Gq9t8Wy5KyLd"
      }
    },
    {
      "cell_type": "code",
      "source": [
        "#rename columns\n",
        "final_df.columns = ['points', 'teamA', 'teamB', 'teamC']\n",
        "\n",
        "#view final df\n",
        "print(final_df)\n",
        "\n"
      ],
      "metadata": {
        "colab": {
          "base_uri": "https://localhost:8080/"
        },
        "id": "B-6fqxWBKvrb",
        "outputId": "7eb85ded-542f-41c2-85f7-6cb2f594ae4c"
      },
      "execution_count": null,
      "outputs": [
        {
          "output_type": "stream",
          "name": "stdout",
          "text": [
            "   points  teamA  teamB  teamC\n",
            "0      25    1.0    0.0    0.0\n",
            "1      12    1.0    0.0    0.0\n",
            "2      15    0.0    1.0    0.0\n",
            "3      14    0.0    1.0    0.0\n",
            "4      19    0.0    1.0    0.0\n",
            "5      23    0.0    1.0    0.0\n",
            "6      25    0.0    0.0    1.0\n",
            "7      29    0.0    0.0    1.0\n"
          ]
        }
      ]
    }
  ]
}